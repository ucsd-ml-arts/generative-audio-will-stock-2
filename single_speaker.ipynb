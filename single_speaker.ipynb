{
  "nbformat": 4,
  "nbformat_minor": 0,
  "metadata": {
    "colab": {
      "name": "single-speaker.ipynb",
      "provenance": [],
      "private_outputs": true,
      "collapsed_sections": [],
      "toc_visible": true
    },
    "kernelspec": {
      "name": "python3",
      "display_name": "Python 3"
    },
    "accelerator": "GPU"
  },
  "cells": [
    {
      "cell_type": "markdown",
      "metadata": {
        "id": "Za124iWvdMsZ",
        "colab_type": "text"
      },
      "source": [
        "# DeepVoice3: Single-speaker text-to-speech demo\n",
        "\n",
        "In this notebook, you can try DeepVoice3-based single-speaker text-to-speech (en) using a model trained on [LJSpeech dataset](https://keithito.com/LJ-Speech-Dataset/). The notebook is supposed to be executed on [Google colab](https://colab.research.google.com) so you don't have to setup your machines locally.\n",
        "\n",
        "**Estimated time to complete**: 5 miniutes.\n",
        "\n",
        "- Code: https://github.com/r9y9/deepvoice3_pytorch\n",
        "- Audio samples: https://r9y9.github.io/deepvoice3_pytorch/"
      ]
    },
    {
      "cell_type": "markdown",
      "metadata": {
        "id": "ml6wOhwqhGiI",
        "colab_type": "text"
      },
      "source": [
        "## Setup"
      ]
    },
    {
      "cell_type": "markdown",
      "metadata": {
        "id": "QjindPTItq75",
        "colab_type": "text"
      },
      "source": [
        "### Install dependencies"
      ]
    },
    {
      "cell_type": "code",
      "metadata": {
        "id": "kemMMs6pg9Rv",
        "colab_type": "code",
        "colab": {}
      },
      "source": [
        "import os\n",
        "from os.path import exists, join, expanduser\n",
        "\n",
        "# Clone\n",
        "name = \"deepvoice3_pytorch\"\n",
        "if not exists(name):\n",
        "  ! git clone https://github.com/r9y9/$name"
      ],
      "execution_count": 0,
      "outputs": []
    },
    {
      "cell_type": "code",
      "metadata": {
        "id": "ntBxf7b6DCqT",
        "colab_type": "code",
        "colab": {}
      },
      "source": [
        "# Change working directory to the project dir \n",
        "# os.chdir(join(expanduser(\"~\"), name))\n",
        "os.chdir(name)\n",
        "\n",
        "!git checkout 7a10ac6763eda92595e257543494b6a95f64229b --quiet\n",
        "\n",
        "# Install dependencices\n",
        "!pip install -q -e '.[bin]'"
      ],
      "execution_count": 0,
      "outputs": []
    },
    {
      "cell_type": "code",
      "metadata": {
        "id": "X6VFmDe-ideo",
        "colab_type": "code",
        "colab": {}
      },
      "source": [
        "%pylab inline\n",
        "! pip install -q librosa nltk\n",
        "\n",
        "import torch\n",
        "import numpy as np\n",
        "import librosa\n",
        "import librosa.display\n",
        "import IPython\n",
        "from IPython.display import Audio\n",
        "# need this for English text processing frontend\n",
        "import nltk\n",
        "! python -m nltk.downloader cmudict"
      ],
      "execution_count": 0,
      "outputs": []
    },
    {
      "cell_type": "markdown",
      "metadata": {
        "id": "_l1Gd2SStt0E",
        "colab_type": "text"
      },
      "source": [
        "### Download a pre-trained model"
      ]
    },
    {
      "cell_type": "code",
      "metadata": {
        "id": "42Zwjr4UjNn_",
        "colab_type": "code",
        "colab": {}
      },
      "source": [
        "preset = \"20180505_deepvoice3_ljspeech.json\"\n",
        "checkpoint_path = \"20180505_deepvoice3_checkpoint_step000640000.pth\""
      ],
      "execution_count": 0,
      "outputs": []
    },
    {
      "cell_type": "code",
      "metadata": {
        "id": "45Wrp8INj6Xu",
        "colab_type": "code",
        "colab": {}
      },
      "source": [
        "if not exists(preset):\n",
        "  !curl -O -L \"https://www.dropbox.com/s/0ck82unm0bo0rxd/20180505_deepvoice3_ljspeech.json\"\n",
        "if not exists(checkpoint_path):\n",
        "  !curl -O -L \"https://www.dropbox.com/s/5ucl9remrwy5oeg/20180505_deepvoice3_checkpoint_step000640000.pth\""
      ],
      "execution_count": 0,
      "outputs": []
    },
    {
      "cell_type": "markdown",
      "metadata": {
        "id": "_yJ90ESZiT_S",
        "colab_type": "text"
      },
      "source": [
        "## Synthesis"
      ]
    },
    {
      "cell_type": "markdown",
      "metadata": {
        "id": "FUyhiJg03dj6",
        "colab_type": "text"
      },
      "source": [
        "### Setup hyper parameters"
      ]
    },
    {
      "cell_type": "code",
      "metadata": {
        "id": "E9sLuYgcnbZb",
        "colab_type": "code",
        "colab": {}
      },
      "source": [
        "\n",
        "import hparams\n",
        "import json\n",
        "\n",
        "    \n",
        "# Load parameters from preset\n",
        "with open(preset) as f:\n",
        "  hparams.hparams.parse_json(f.read())\n",
        "  \n",
        "# Inject frontend text processor\n",
        "import synthesis\n",
        "import train\n",
        "from deepvoice3_pytorch import frontend\n",
        "synthesis._frontend = getattr(frontend, \"en\")\n",
        "train._frontend =  getattr(frontend, \"en\")\n",
        "\n",
        "# alises\n",
        "fs = hparams.hparams.sample_rate\n",
        "hop_length = hparams.hparams.hop_size"
      ],
      "execution_count": 0,
      "outputs": []
    },
    {
      "cell_type": "markdown",
      "metadata": {
        "id": "C4NOldY83wG1",
        "colab_type": "text"
      },
      "source": [
        "### Define utility functions"
      ]
    },
    {
      "cell_type": "code",
      "metadata": {
        "id": "xRbelGLjiSfA",
        "colab_type": "code",
        "colab": {}
      },
      "source": [
        "def tts(model, text, p=0, speaker_id=None, fast=True, figures=True):\n",
        "  from synthesis import tts as _tts\n",
        "  waveform, alignment, spectrogram, mel = _tts(model, text, p, speaker_id, fast)\n",
        "  if figures:\n",
        "      visualize(alignment, spectrogram)\n",
        "  IPython.display.display(Audio(waveform, rate=fs))\n",
        "  \n",
        "def visualize(alignment, spectrogram):\n",
        "  label_fontsize = 16\n",
        "  figure(figsize=(16,16))\n",
        "\n",
        "  subplot(2,1,1)\n",
        "  imshow(alignment.T, aspect=\"auto\", origin=\"lower\", interpolation=None)\n",
        "  xlabel(\"Decoder timestamp\", fontsize=label_fontsize)\n",
        "  ylabel(\"Encoder timestamp\", fontsize=label_fontsize)\n",
        "  colorbar()\n",
        "\n",
        "  subplot(2,1,2)\n",
        "  librosa.display.specshow(spectrogram.T, sr=fs, \n",
        "                           hop_length=hop_length, x_axis=\"time\", y_axis=\"linear\")\n",
        "  xlabel(\"Time\", fontsize=label_fontsize)\n",
        "  ylabel(\"Hz\", fontsize=label_fontsize)\n",
        "  tight_layout()\n",
        "  colorbar()"
      ],
      "execution_count": 0,
      "outputs": []
    },
    {
      "cell_type": "markdown",
      "metadata": {
        "id": "m2jmbSD430Ws",
        "colab_type": "text"
      },
      "source": [
        "### Load the model checkpoint"
      ]
    },
    {
      "cell_type": "code",
      "metadata": {
        "id": "lr8pgqtYhvav",
        "colab_type": "code",
        "colab": {}
      },
      "source": [
        "from train import build_model\n",
        "from train import restore_parts, load_checkpoint\n",
        "\n",
        "model = build_model()\n",
        "model = load_checkpoint(checkpoint_path, model, None, True)"
      ],
      "execution_count": 0,
      "outputs": []
    },
    {
      "cell_type": "markdown",
      "metadata": {
        "id": "DOJ3miW63ywA",
        "colab_type": "text"
      },
      "source": [
        "### Generate speech"
      ]
    },
    {
      "cell_type": "code",
      "metadata": {
        "id": "GR1XRy-ykbz_",
        "colab_type": "code",
        "colab": {}
      },
      "source": [
        "# Try your favorite senteneces:)\n",
        "texts = [\n",
        "    \"A better way forward, however, is for doctors to teach their patients the difference between threat and control.\", \n",
        "    \"We’re talking about “Wonderful Coke. It’s a drink that tastes just like a “tea from Finland, but with a dash of Jamaican vanilla extract.\",\n",
        "    \"Millennium Challenge No. 1 — How to Stop Spontaneity — Was Written When We Were Becoming Intoxicated and Sick — and What We Need to Know About Apathy and Masturbation\",\n",
        "    \"What does it mean to be human in the first place? These are questions that can be answered with a very simple, unambiguous vocabulary\",\n",
        "    \"I don’t think of psychotherapy as a neatly divided department. There are those who describe it as a collection of its kind, Some call it the Straight Talk Room\",\n",
        "    \"If we had a rigid and limited set of thoughts and behavior, people might be able to talk about their problems — but we don’t want that because we don’t have a place for them.\",\n",
        "    \"The art of predicting marriages is based on a very basic fact. All marriages have one thing in common: They start somewhere, They are related.\",\n",
        "    \"A player assumes the entire risk of running for a whole set of seats in a one-on-one encounter. It’s a position that allows him to quietly get lost in the shuffle. Is that an accident?”\",\n",
        "    \" It’s hard to find someone who can provide a consistent and accurate description of what really happens inside the locked door of those locked door slumbers.\",\n",
        "    \"The truth is that we don’t have that kind of enumeration of thoughts and feelings.\",\n",
        "    \"Traumatic brain injury is very common. We learn to verbalize this almost unconsciously.\",\n",
        "    \" When we are exposed to negative stereotypes, we become less and less sensitive to the positive associations we have about the other person.\",\n",
        "]\n",
        "\n",
        "for idx, text in enumerate(texts):\n",
        "  print(idx, text)\n",
        "  tts(model, text, figures=False)"
      ],
      "execution_count": 0,
      "outputs": []
    },
    {
      "cell_type": "code",
      "metadata": {
        "id": "nirMEf2J5Roy",
        "colab_type": "code",
        "colab": {}
      },
      "source": [
        "# With attention plot\n",
        "text = \"Generative adversarial network or variational auto-encoder.\"\n",
        "tts(model, text, figures=True)"
      ],
      "execution_count": 0,
      "outputs": []
    },
    {
      "cell_type": "markdown",
      "metadata": {
        "id": "ArQspYbs5Aoo",
        "colab_type": "text"
      },
      "source": [
        "For details, please visit https://github.com/r9y9/deepvoice3_pytorch"
      ]
    },
    {
      "cell_type": "code",
      "metadata": {
        "id": "dHOUvCx6UGjk",
        "colab_type": "code",
        "colab": {}
      },
      "source": [
        ""
      ],
      "execution_count": 0,
      "outputs": []
    }
  ]
}