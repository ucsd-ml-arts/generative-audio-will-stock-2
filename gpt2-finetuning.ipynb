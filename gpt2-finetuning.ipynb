!pip install gpt-2-simple --user

import gpt_2_simple as gpt2

model_name = "124M"
gpt2.download_gpt2(model_name=model_name)   # model is saved into current directory under /models/124M/

sess = gpt2.start_tf_sess()
gpt2.finetune(sess,
              'blink.txt',
              model_name=model_name,
              steps=300)#1000)   # steps is max number of training steps

gpt2.generate(sess)
